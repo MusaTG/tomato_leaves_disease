{
 "cells": [
  {
   "cell_type": "code",
   "execution_count": 6,
   "metadata": {},
   "outputs": [
    {
     "name": "stdout",
     "output_type": "stream",
     "text": [
      "Found 2110 images belonging to 2 classes.\n",
      "Found 527 images belonging to 2 classes.\n",
      "Found 660 images belonging to 2 classes.\n"
     ]
    }
   ],
   "source": [
    "from keras_preprocessing.image import ImageDataGenerator\n",
    "\n",
    "image_size = 224\n",
    "batch_size = 4\n",
    "\n",
    "datagen = ImageDataGenerator(\n",
    "    rescale=1./255,\n",
    "    validation_split=0.2,\n",
    "    fill_mode=\"nearest\"\n",
    ")\n",
    "\n",
    "train = datagen.flow_from_directory(\n",
    "    \"data\\\\train\",\n",
    "    subset=\"training\",\n",
    "    seed=123,\n",
    "    target_size=(image_size,image_size),\n",
    "    batch_size=batch_size,\n",
    "    class_mode=\"binary\"\n",
    ")\n",
    "\n",
    "val = datagen.flow_from_directory(\n",
    "    \"data\\\\train\",\n",
    "    target_size=(image_size,image_size),\n",
    "    seed=123,\n",
    "    batch_size=batch_size,\n",
    "    subset=\"validation\",\n",
    "    class_mode=\"binary\"\n",
    ")\n",
    "\n",
    "test_datagen = ImageDataGenerator(rescale=1./255)\n",
    "\n",
    "test = test_datagen.flow_from_directory(\n",
    "    \"data\\\\test\",\n",
    "    target_size=(image_size,image_size),\n",
    "    batch_size=batch_size,\n",
    "    class_mode='binary'\n",
    ")"
   ]
  },
  {
   "cell_type": "code",
   "execution_count": 7,
   "metadata": {},
   "outputs": [],
   "source": [
    "from keras.models import Sequential\n",
    "from keras.layers import Conv2D,MaxPooling2D,Dense,Flatten,Dropout,BatchNormalization\n",
    "\n",
    "def Model():\n",
    "    cham_dim=-1\n",
    "    model = Sequential()\n",
    "    model.add(Conv2D(128,(3,3),activation=\"relu\",input_shape=(image_size,image_size,3),padding=\"same\"))\n",
    "    model.add(MaxPooling2D(3,3))\n",
    "    model.add(BatchNormalization(axis=cham_dim))\n",
    "    model.add(Dropout(0.25))\n",
    "    model.add(Conv2D(128, (3, 3),activation=\"relu\",padding=\"same\"))\n",
    "    model.add(BatchNormalization(axis=cham_dim))\n",
    "    model.add(Conv2D(128, (3, 3),activation=\"relu\",padding=\"same\"))\n",
    "    model.add(BatchNormalization(axis=cham_dim))\n",
    "    model.add(MaxPooling2D(2, 2))\n",
    "    model.add(Dropout(0.25))\n",
    "    model.add(Conv2D(128, (3, 3),activation=\"relu\",padding=\"same\"))\n",
    "    model.add(BatchNormalization(axis=cham_dim))\n",
    "    model.add(Conv2D(128, (3, 3),activation=\"relu\",padding=\"same\"))\n",
    "    model.add(BatchNormalization(axis=cham_dim))\n",
    "    model.add(MaxPooling2D(3,3))\n",
    "    model.add(Dropout(0.5))\n",
    "    model.add(Flatten())\n",
    "    model.add(Dense(512,activation=\"relu\"))\n",
    "    model.add(BatchNormalization(axis=cham_dim))\n",
    "    model.add(Dropout(0.5))\n",
    "    model.add(Dense(1,activation=\"sigmoid\"))\n",
    "\n",
    "    model.summary()\n",
    "\n",
    "    return model"
   ]
  },
  {
   "cell_type": "code",
   "execution_count": 8,
   "metadata": {},
   "outputs": [
    {
     "name": "stdout",
     "output_type": "stream",
     "text": [
      "Model: \"sequential_2\"\n",
      "_________________________________________________________________\n",
      " Layer (type)                Output Shape              Param #   \n",
      "=================================================================\n",
      " conv2d_10 (Conv2D)          (None, 224, 224, 128)     3584      \n",
      "                                                                 \n",
      " max_pooling2d_6 (MaxPooling  (None, 74, 74, 128)      0         \n",
      " 2D)                                                             \n",
      "                                                                 \n",
      " batch_normalization_12 (Bat  (None, 74, 74, 128)      512       \n",
      " chNormalization)                                                \n",
      "                                                                 \n",
      " dropout_8 (Dropout)         (None, 74, 74, 128)       0         \n",
      "                                                                 \n",
      " conv2d_11 (Conv2D)          (None, 74, 74, 128)       147584    \n",
      "                                                                 \n",
      " batch_normalization_13 (Bat  (None, 74, 74, 128)      512       \n",
      " chNormalization)                                                \n",
      "                                                                 \n",
      " conv2d_12 (Conv2D)          (None, 74, 74, 128)       147584    \n",
      "                                                                 \n",
      " batch_normalization_14 (Bat  (None, 74, 74, 128)      512       \n",
      " chNormalization)                                                \n",
      "                                                                 \n",
      " max_pooling2d_7 (MaxPooling  (None, 37, 37, 128)      0         \n",
      " 2D)                                                             \n",
      "                                                                 \n",
      " dropout_9 (Dropout)         (None, 37, 37, 128)       0         \n",
      "                                                                 \n",
      " conv2d_13 (Conv2D)          (None, 37, 37, 128)       147584    \n",
      "                                                                 \n",
      " batch_normalization_15 (Bat  (None, 37, 37, 128)      512       \n",
      " chNormalization)                                                \n",
      "                                                                 \n",
      " conv2d_14 (Conv2D)          (None, 37, 37, 128)       147584    \n",
      "                                                                 \n",
      " batch_normalization_16 (Bat  (None, 37, 37, 128)      512       \n",
      " chNormalization)                                                \n",
      "                                                                 \n",
      " max_pooling2d_8 (MaxPooling  (None, 12, 12, 128)      0         \n",
      " 2D)                                                             \n",
      "                                                                 \n",
      " dropout_10 (Dropout)        (None, 12, 12, 128)       0         \n",
      "                                                                 \n",
      " flatten_2 (Flatten)         (None, 18432)             0         \n",
      "                                                                 \n",
      " dense_4 (Dense)             (None, 512)               9437696   \n",
      "                                                                 \n",
      " batch_normalization_17 (Bat  (None, 512)              2048      \n",
      " chNormalization)                                                \n",
      "                                                                 \n",
      " dropout_11 (Dropout)        (None, 512)               0         \n",
      "                                                                 \n",
      " dense_5 (Dense)             (None, 1)                 513       \n",
      "                                                                 \n",
      "=================================================================\n",
      "Total params: 10,036,737\n",
      "Trainable params: 10,034,433\n",
      "Non-trainable params: 2,304\n",
      "_________________________________________________________________\n"
     ]
    },
    {
     "name": "stderr",
     "output_type": "stream",
     "text": [
      "C:\\Users\\MTG\\AppData\\Local\\Temp\\ipykernel_908\\3730779374.py:3: UserWarning: `Model.fit_generator` is deprecated and will be removed in a future version. Please use `Model.fit`, which supports generators.\n",
      "  history = model12.fit_generator(\n"
     ]
    },
    {
     "name": "stdout",
     "output_type": "stream",
     "text": [
      "Epoch 1/50\n",
      "528/528 [==============================] - 77s 136ms/step - loss: 0.8650 - acc: 0.6137 - val_loss: 0.8138 - val_acc: 0.6300\n",
      "Epoch 2/50\n",
      "528/528 [==============================] - 35s 66ms/step - loss: 0.6232 - acc: 0.7204 - val_loss: 2.1857 - val_acc: 0.6148\n",
      "Epoch 3/50\n",
      "528/528 [==============================] - 35s 66ms/step - loss: 0.6073 - acc: 0.7114 - val_loss: 0.6506 - val_acc: 0.6376\n",
      "Epoch 4/50\n",
      "528/528 [==============================] - 35s 66ms/step - loss: 0.5520 - acc: 0.7427 - val_loss: 0.7624 - val_acc: 0.5996\n",
      "Epoch 5/50\n",
      "528/528 [==============================] - 36s 68ms/step - loss: 0.5473 - acc: 0.7384 - val_loss: 0.9686 - val_acc: 0.5920\n",
      "Epoch 6/50\n",
      "528/528 [==============================] - 35s 66ms/step - loss: 0.5282 - acc: 0.7460 - val_loss: 1.3267 - val_acc: 0.5598\n",
      "Epoch 7/50\n",
      "528/528 [==============================] - 45s 86ms/step - loss: 0.5349 - acc: 0.7445 - val_loss: 0.7772 - val_acc: 0.6186\n",
      "Epoch 8/50\n",
      "528/528 [==============================] - 112s 213ms/step - loss: 0.5353 - acc: 0.7351 - val_loss: 0.5437 - val_acc: 0.7173\n",
      "Epoch 9/50\n",
      "528/528 [==============================] - 117s 221ms/step - loss: 0.5030 - acc: 0.7630 - val_loss: 0.5709 - val_acc: 0.7059\n",
      "Epoch 10/50\n",
      "528/528 [==============================] - 107s 202ms/step - loss: 0.5177 - acc: 0.7507 - val_loss: 0.4931 - val_acc: 0.7438\n",
      "Epoch 11/50\n",
      "528/528 [==============================] - 110s 209ms/step - loss: 0.5020 - acc: 0.7730 - val_loss: 1.1684 - val_acc: 0.6015\n",
      "Epoch 12/50\n",
      "528/528 [==============================] - 118s 224ms/step - loss: 0.5204 - acc: 0.7621 - val_loss: 0.6860 - val_acc: 0.6831\n",
      "Epoch 13/50\n",
      "528/528 [==============================] - 121s 230ms/step - loss: 0.4925 - acc: 0.7815 - val_loss: 0.9826 - val_acc: 0.5769\n",
      "Epoch 14/50\n",
      "528/528 [==============================] - 121s 229ms/step - loss: 0.5137 - acc: 0.7654 - val_loss: 0.5618 - val_acc: 0.7192\n",
      "Epoch 15/50\n",
      "528/528 [==============================] - 121s 229ms/step - loss: 0.4830 - acc: 0.7773 - val_loss: 1.5852 - val_acc: 0.4706\n",
      "Epoch 16/50\n",
      "528/528 [==============================] - 120s 228ms/step - loss: 0.5211 - acc: 0.7654 - val_loss: 0.6109 - val_acc: 0.7381\n",
      "Epoch 17/50\n",
      "528/528 [==============================] - 115s 217ms/step - loss: 0.4866 - acc: 0.7910 - val_loss: 0.4537 - val_acc: 0.8008\n",
      "Epoch 18/50\n",
      "528/528 [==============================] - 122s 231ms/step - loss: 0.4820 - acc: 0.7773 - val_loss: 0.4592 - val_acc: 0.7856\n",
      "Epoch 19/50\n",
      "528/528 [==============================] - 119s 225ms/step - loss: 0.5020 - acc: 0.7611 - val_loss: 0.4863 - val_acc: 0.7666\n",
      "Epoch 20/50\n",
      "528/528 [==============================] - 121s 229ms/step - loss: 0.4634 - acc: 0.7882 - val_loss: 0.4683 - val_acc: 0.7742\n",
      "Epoch 21/50\n",
      "528/528 [==============================] - 117s 221ms/step - loss: 0.4854 - acc: 0.7867 - val_loss: 0.5436 - val_acc: 0.7021\n",
      "Epoch 22/50\n",
      "528/528 [==============================] - 104s 197ms/step - loss: 0.4754 - acc: 0.7967 - val_loss: 0.6082 - val_acc: 0.7173\n",
      "Epoch 23/50\n",
      "528/528 [==============================] - 95s 179ms/step - loss: 0.4686 - acc: 0.7848 - val_loss: 0.7274 - val_acc: 0.7476\n",
      "Epoch 24/50\n",
      "528/528 [==============================] - 111s 211ms/step - loss: 0.4852 - acc: 0.7806 - val_loss: 0.4912 - val_acc: 0.7875\n",
      "Epoch 25/50\n",
      "528/528 [==============================] - 119s 225ms/step - loss: 0.4808 - acc: 0.7844 - val_loss: 0.4488 - val_acc: 0.8065\n",
      "Epoch 26/50\n",
      "528/528 [==============================] - 110s 209ms/step - loss: 0.4756 - acc: 0.7825 - val_loss: 0.5414 - val_acc: 0.7628\n",
      "Epoch 27/50\n",
      "528/528 [==============================] - 111s 210ms/step - loss: 0.4716 - acc: 0.7938 - val_loss: 0.4847 - val_acc: 0.7666\n",
      "Epoch 28/50\n",
      "528/528 [==============================] - 112s 211ms/step - loss: 0.4579 - acc: 0.7867 - val_loss: 0.5022 - val_acc: 0.7590\n",
      "Epoch 29/50\n",
      "528/528 [==============================] - 112s 213ms/step - loss: 0.4581 - acc: 0.7882 - val_loss: 0.7735 - val_acc: 0.7021\n",
      "Epoch 30/50\n",
      "528/528 [==============================] - 102s 193ms/step - loss: 0.4671 - acc: 0.7858 - val_loss: 0.5671 - val_acc: 0.7362\n",
      "Epoch 31/50\n",
      "528/528 [==============================] - 102s 193ms/step - loss: 0.4572 - acc: 0.7919 - val_loss: 0.5713 - val_acc: 0.7685\n",
      "Epoch 32/50\n",
      "528/528 [==============================] - 104s 197ms/step - loss: 0.4608 - acc: 0.7957 - val_loss: 0.6059 - val_acc: 0.7552\n",
      "Epoch 33/50\n",
      "528/528 [==============================] - 83s 158ms/step - loss: 0.4298 - acc: 0.8090 - val_loss: 0.8030 - val_acc: 0.6945\n",
      "Epoch 34/50\n",
      "528/528 [==============================] - 79s 150ms/step - loss: 0.4458 - acc: 0.8071 - val_loss: 0.4989 - val_acc: 0.7723\n",
      "Epoch 35/50\n",
      "528/528 [==============================] - 69s 130ms/step - loss: 0.4318 - acc: 0.8066 - val_loss: 0.4932 - val_acc: 0.7932\n",
      "Epoch 36/50\n",
      "528/528 [==============================] - 52s 97ms/step - loss: 0.4312 - acc: 0.8118 - val_loss: 0.5706 - val_acc: 0.7438\n",
      "Epoch 37/50\n",
      "528/528 [==============================] - 46s 87ms/step - loss: 0.4387 - acc: 0.7986 - val_loss: 0.5337 - val_acc: 0.7875\n",
      "Epoch 38/50\n",
      "528/528 [==============================] - 47s 88ms/step - loss: 0.4384 - acc: 0.8118 - val_loss: 0.5306 - val_acc: 0.7685\n",
      "Epoch 39/50\n",
      "528/528 [==============================] - 46s 87ms/step - loss: 0.4506 - acc: 0.8090 - val_loss: 0.6023 - val_acc: 0.7230\n",
      "Epoch 40/50\n",
      "528/528 [==============================] - 48s 90ms/step - loss: 0.4400 - acc: 0.8047 - val_loss: 1.2061 - val_acc: 0.7249\n",
      "Epoch 41/50\n",
      "528/528 [==============================] - 40s 77ms/step - loss: 0.4531 - acc: 0.7967 - val_loss: 0.5507 - val_acc: 0.7875\n",
      "Epoch 42/50\n",
      "528/528 [==============================] - 43s 82ms/step - loss: 0.4286 - acc: 0.8095 - val_loss: 0.5371 - val_acc: 0.7571\n",
      "Epoch 43/50\n",
      "528/528 [==============================] - 39s 74ms/step - loss: 0.4370 - acc: 0.8076 - val_loss: 0.5100 - val_acc: 0.7932\n",
      "Epoch 44/50\n",
      "528/528 [==============================] - 48s 91ms/step - loss: 0.4391 - acc: 0.8109 - val_loss: 0.4682 - val_acc: 0.7761\n",
      "Epoch 45/50\n",
      "528/528 [==============================] - 48s 91ms/step - loss: 0.4206 - acc: 0.8137 - val_loss: 0.5510 - val_acc: 0.7742\n",
      "Epoch 46/50\n",
      "528/528 [==============================] - 45s 85ms/step - loss: 0.4233 - acc: 0.8190 - val_loss: 0.5137 - val_acc: 0.7514\n",
      "Epoch 47/50\n",
      "528/528 [==============================] - 46s 86ms/step - loss: 0.4183 - acc: 0.8090 - val_loss: 0.7263 - val_acc: 0.7154\n",
      "Epoch 48/50\n",
      "528/528 [==============================] - 44s 83ms/step - loss: 0.4421 - acc: 0.8043 - val_loss: 0.4532 - val_acc: 0.7856\n",
      "Epoch 49/50\n",
      "528/528 [==============================] - 36s 68ms/step - loss: 0.4264 - acc: 0.8090 - val_loss: 0.5073 - val_acc: 0.7685\n",
      "Epoch 50/50\n",
      "528/528 [==============================] - 42s 80ms/step - loss: 0.3869 - acc: 0.8265 - val_loss: 0.6723 - val_acc: 0.7400\n"
     ]
    }
   ],
   "source": [
    "model12 = Model()\n",
    "model12.compile(optimizer=\"RMSProp\",loss=\"binary_crossentropy\",metrics=[\"acc\"])\n",
    "history = model12.fit_generator(\n",
    "    train,\n",
    "    epochs=50,\n",
    "    validation_data=val\n",
    ")"
   ]
  },
  {
   "cell_type": "code",
   "execution_count": 9,
   "metadata": {},
   "outputs": [
    {
     "name": "stderr",
     "output_type": "stream",
     "text": [
      "C:\\Users\\MTG\\AppData\\Local\\Temp\\ipykernel_908\\3413403080.py:3: UserWarning: `Model.predict_generator` is deprecated and will be removed in a future version. Please use `Model.predict`, which supports generators.\n",
      "  Y_pred = model12.predict_generator(test)\n"
     ]
    },
    {
     "data": {
      "text/plain": [
       "660"
      ]
     },
     "execution_count": 9,
     "metadata": {},
     "output_type": "execute_result"
    }
   ],
   "source": [
    "import numpy as np\n",
    "from sklearn.metrics import confusion_matrix\n",
    "Y_pred = model12.predict_generator(test)\n",
    "y_pred = np.argmax(Y_pred,axis=1)\n",
    "len(y_pred) "
   ]
  },
  {
   "cell_type": "code",
   "execution_count": 10,
   "metadata": {},
   "outputs": [
    {
     "data": {
      "text/plain": [
       "array([[360,   0],\n",
       "       [300,   0]], dtype=int64)"
      ]
     },
     "execution_count": 10,
     "metadata": {},
     "output_type": "execute_result"
    }
   ],
   "source": [
    "ytrue=np.array(np.array(test.labels))\n",
    "ypred=np.array(y_pred)\n",
    "cm=confusion_matrix(ytrue,ypred)\n",
    "cm"
   ]
  },
  {
   "cell_type": "code",
   "execution_count": 11,
   "metadata": {},
   "outputs": [
    {
     "name": "stdout",
     "output_type": "stream",
     "text": [
      "Classification Report:\n",
      "----------------------\n",
      "               precision    recall  f1-score   support\n",
      "\n",
      "      benign     0.5455    1.0000    0.7059       360\n",
      "   malignant     0.0000    0.0000    0.0000       300\n",
      "\n",
      "    accuracy                         0.5455       660\n",
      "   macro avg     0.2727    0.5000    0.3529       660\n",
      "weighted avg     0.2975    0.5455    0.3850       660\n",
      "\n"
     ]
    },
    {
     "name": "stderr",
     "output_type": "stream",
     "text": [
      "c:\\Users\\MTG\\AppData\\Local\\Programs\\Python\\Python310\\lib\\site-packages\\sklearn\\metrics\\_classification.py:1334: UndefinedMetricWarning: Precision and F-score are ill-defined and being set to 0.0 in labels with no predicted samples. Use `zero_division` parameter to control this behavior.\n",
      "  _warn_prf(average, modifier, msg_start, len(result))\n",
      "c:\\Users\\MTG\\AppData\\Local\\Programs\\Python\\Python310\\lib\\site-packages\\sklearn\\metrics\\_classification.py:1334: UndefinedMetricWarning: Precision and F-score are ill-defined and being set to 0.0 in labels with no predicted samples. Use `zero_division` parameter to control this behavior.\n",
      "  _warn_prf(average, modifier, msg_start, len(result))\n",
      "c:\\Users\\MTG\\AppData\\Local\\Programs\\Python\\Python310\\lib\\site-packages\\sklearn\\metrics\\_classification.py:1334: UndefinedMetricWarning: Precision and F-score are ill-defined and being set to 0.0 in labels with no predicted samples. Use `zero_division` parameter to control this behavior.\n",
      "  _warn_prf(average, modifier, msg_start, len(result))\n"
     ]
    }
   ],
   "source": [
    "from sklearn.metrics import classification_report\n",
    "clr = classification_report(ytrue, ypred, target_names=list(test.class_indices.keys()), digits= 4) # create classification report\n",
    "print(\"Classification Report:\\n----------------------\\n\", clr)"
   ]
  },
  {
   "cell_type": "code",
   "execution_count": 12,
   "metadata": {},
   "outputs": [
    {
     "data": {
      "image/png": "[encoded data removed]",
      "text/plain": [
       "<Figure size 1200x800 with 2 Axes>"
      ]
     },
     "metadata": {},
     "output_type": "display_data"
    }
   ],
   "source": [
    "import matplotlib.pyplot as plt\n",
    "import seaborn as sns\n",
    "plt.figure(figsize=(12,8))\n",
    "sns.heatmap(cm,cmap=\"Blues\", annot=True)\n",
    "plt.show()"
   ]
  },
  {
   "cell_type": "code",
   "execution_count": null,
   "metadata": {},
   "outputs": [],
   "source": []
  }
 ],
 "metadata": {
  "kernelspec": {
   "display_name": "Python 3",
   "language": "python",
   "name": "python3"
  },
  "language_info": {
   "codemirror_mode": {
    "name": "ipython",
    "version": 3
   },
   "file_extension": ".py",
   "mimetype": "text/x-python",
   "name": "python",
   "nbconvert_exporter": "python",
   "pygments_lexer": "ipython3",
   "version": "3.10.8"
  },
  "orig_nbformat": 4,
  "vscode": {
   "interpreter": {
    "hash": "cccf58110e78881b05b784bd7baf1ae6021f67a20806dca348d3f3ea30b3f81b"
   }
  }
 },
 "nbformat": 4,
 "nbformat_minor": 2
}
