{
 "cells": [
  {
   "cell_type": "code",
   "execution_count": 1,
   "metadata": {},
   "outputs": [
    {
     "name": "stdout",
     "output_type": "stream",
     "text": [
      "Found 11230 images belonging to 6 classes.\n",
      "Found 2804 images belonging to 6 classes.\n",
      "Found 3000 images belonging to 6 classes.\n"
     ]
    }
   ],
   "source": [
    "from keras_preprocessing.image import ImageDataGenerator\n",
    "\n",
    "image_size = 224\n",
    "batch_size = 4\n",
    "\n",
    "datagen = ImageDataGenerator(\n",
    "    rescale=1./255,\n",
    "    validation_split=0.2,\n",
    "    fill_mode=\"nearest\"\n",
    ")\n",
    "\n",
    "train = datagen.flow_from_directory(\n",
    "    \"archive (1)\\\\seg_train\\\\seg_train\",\n",
    "    subset=\"training\",\n",
    "    seed=123,\n",
    "    target_size=(image_size,image_size),\n",
    "    batch_size=batch_size,\n",
    "    class_mode=\"categorical\"\n",
    ")\n",
    "\n",
    "val = datagen.flow_from_directory(\n",
    "    \"archive (1)\\\\seg_train\\\\seg_train\",\n",
    "    target_size=(image_size,image_size),\n",
    "    seed=123,\n",
    "    batch_size=batch_size,\n",
    "    subset=\"validation\"\n",
    ")\n",
    "\n",
    "test_datagen = ImageDataGenerator(rescale=1./255)\n",
    "\n",
    "test = test_datagen.flow_from_directory(\n",
    "    \"archive (1)\\\\seg_test\\\\seg_test\",\n",
    "    target_size=(image_size,image_size),\n",
    "    batch_size=batch_size,\n",
    "    class_mode='categorical'\n",
    ")"
   ]
  },
  {
   "cell_type": "code",
   "execution_count": 2,
   "metadata": {},
   "outputs": [],
   "source": [
    "from keras.models import Sequential\n",
    "from keras.layers import Conv2D,MaxPooling2D,Dense,Flatten,Dropout,BatchNormalization\n",
    "\n",
    "def Model():\n",
    "    cham_dim=-1\n",
    "    model = Sequential()\n",
    "    model.add(Conv2D(128,(3,3),activation=\"relu\",input_shape=(image_size,image_size,3),padding=\"same\"))\n",
    "    model.add(MaxPooling2D(3,3))\n",
    "    model.add(BatchNormalization(axis=cham_dim))\n",
    "    model.add(Dropout(0.25))\n",
    "    model.add(Conv2D(128, (3, 3),activation=\"relu\",padding=\"same\"))\n",
    "    model.add(BatchNormalization(axis=cham_dim))\n",
    "    model.add(Conv2D(128, (3, 3),activation=\"relu\",padding=\"same\"))\n",
    "    model.add(BatchNormalization(axis=cham_dim))\n",
    "    model.add(MaxPooling2D(2, 2))\n",
    "    model.add(Dropout(0.25))\n",
    "    model.add(Conv2D(128, (3, 3),activation=\"relu\",padding=\"same\"))\n",
    "    model.add(BatchNormalization(axis=cham_dim))\n",
    "    model.add(Conv2D(128, (3, 3),activation=\"relu\",padding=\"same\"))\n",
    "    model.add(BatchNormalization(axis=cham_dim))\n",
    "    model.add(MaxPooling2D(3,3))\n",
    "    model.add(Dropout(0.5))\n",
    "    model.add(Flatten())\n",
    "    model.add(Dense(512,activation=\"relu\"))\n",
    "    model.add(BatchNormalization(axis=cham_dim))\n",
    "    model.add(Dropout(0.5))\n",
    "    model.add(Dense(6,activation=\"softmax\"))\n",
    "\n",
    "    model.summary()\n",
    "\n",
    "    return model"
   ]
  },
  {
   "cell_type": "code",
   "execution_count": 3,
   "metadata": {},
   "outputs": [
    {
     "name": "stdout",
     "output_type": "stream",
     "text": [
      "Model: \"sequential\"\n",
      "_________________________________________________________________\n",
      " Layer (type)                Output Shape              Param #   \n",
      "=================================================================\n",
      " conv2d (Conv2D)             (None, 224, 224, 128)     3584      \n",
      "                                                                 \n",
      " max_pooling2d (MaxPooling2D  (None, 74, 74, 128)      0         \n",
      " )                                                               \n",
      "                                                                 \n",
      " batch_normalization (BatchN  (None, 74, 74, 128)      512       \n",
      " ormalization)                                                   \n",
      "                                                                 \n",
      " dropout (Dropout)           (None, 74, 74, 128)       0         \n",
      "                                                                 \n",
      " conv2d_1 (Conv2D)           (None, 74, 74, 128)       147584    \n",
      "                                                                 \n",
      " batch_normalization_1 (Batc  (None, 74, 74, 128)      512       \n",
      " hNormalization)                                                 \n",
      "                                                                 \n",
      " conv2d_2 (Conv2D)           (None, 74, 74, 128)       147584    \n",
      "                                                                 \n",
      " batch_normalization_2 (Batc  (None, 74, 74, 128)      512       \n",
      " hNormalization)                                                 \n",
      "                                                                 \n",
      " max_pooling2d_1 (MaxPooling  (None, 37, 37, 128)      0         \n",
      " 2D)                                                             \n",
      "                                                                 \n",
      " dropout_1 (Dropout)         (None, 37, 37, 128)       0         \n",
      "                                                                 \n",
      " conv2d_3 (Conv2D)           (None, 37, 37, 128)       147584    \n",
      "                                                                 \n",
      " batch_normalization_3 (Batc  (None, 37, 37, 128)      512       \n",
      " hNormalization)                                                 \n",
      "                                                                 \n",
      " conv2d_4 (Conv2D)           (None, 37, 37, 128)       147584    \n",
      "                                                                 \n",
      " batch_normalization_4 (Batc  (None, 37, 37, 128)      512       \n",
      " hNormalization)                                                 \n",
      "                                                                 \n",
      " max_pooling2d_2 (MaxPooling  (None, 12, 12, 128)      0         \n",
      " 2D)                                                             \n",
      "                                                                 \n",
      " dropout_2 (Dropout)         (None, 12, 12, 128)       0         \n",
      "                                                                 \n",
      " flatten (Flatten)           (None, 18432)             0         \n",
      "                                                                 \n",
      " dense (Dense)               (None, 512)               9437696   \n",
      "                                                                 \n",
      " batch_normalization_5 (Batc  (None, 512)              2048      \n",
      " hNormalization)                                                 \n",
      "                                                                 \n",
      " dropout_3 (Dropout)         (None, 512)               0         \n",
      "                                                                 \n",
      " dense_1 (Dense)             (None, 6)                 3078      \n",
      "                                                                 \n",
      "=================================================================\n",
      "Total params: 10,039,302\n",
      "Trainable params: 10,036,998\n",
      "Non-trainable params: 2,304\n",
      "_________________________________________________________________\n"
     ]
    },
    {
     "name": "stderr",
     "output_type": "stream",
     "text": [
      "C:\\Users\\MTG\\AppData\\Local\\Temp\\ipykernel_15520\\2963433270.py:3: UserWarning: `Model.fit_generator` is deprecated and will be removed in a future version. Please use `Model.fit`, which supports generators.\n",
      "  history = model12.fit_generator(\n"
     ]
    },
    {
     "name": "stdout",
     "output_type": "stream",
     "text": [
      "Epoch 1/50\n",
      "2808/2808 [==============================] - 290s 99ms/step - loss: 1.7127 - acc: 0.4094 - val_loss: 1.2566 - val_acc: 0.5596\n",
      "Epoch 2/50\n",
      "2808/2808 [==============================] - 216s 77ms/step - loss: 1.2955 - acc: 0.5134 - val_loss: 3.3666 - val_acc: 0.4226\n",
      "Epoch 3/50\n",
      "2808/2808 [==============================] - 199s 71ms/step - loss: 1.1735 - acc: 0.5723 - val_loss: 0.9116 - val_acc: 0.6890\n",
      "Epoch 4/50\n",
      "2808/2808 [==============================] - 192s 68ms/step - loss: 1.0917 - acc: 0.6091 - val_loss: 1.2858 - val_acc: 0.6009\n",
      "Epoch 5/50\n",
      "2808/2808 [==============================] - 195s 70ms/step - loss: 1.0347 - acc: 0.6362 - val_loss: 0.9271 - val_acc: 0.6658\n",
      "Epoch 6/50\n",
      "2808/2808 [==============================] - 200s 71ms/step - loss: 0.9942 - acc: 0.6528 - val_loss: 0.6324 - val_acc: 0.7803\n",
      "Epoch 7/50\n",
      "2808/2808 [==============================] - 187s 67ms/step - loss: 0.9611 - acc: 0.6611 - val_loss: 0.8616 - val_acc: 0.7001\n",
      "Epoch 8/50\n",
      "2808/2808 [==============================] - 197s 70ms/step - loss: 0.9331 - acc: 0.6743 - val_loss: 0.5947 - val_acc: 0.7903\n",
      "Epoch 9/50\n",
      "2808/2808 [==============================] - 192s 68ms/step - loss: 0.8984 - acc: 0.6904 - val_loss: 0.6831 - val_acc: 0.7653\n",
      "Epoch 10/50\n",
      "2808/2808 [==============================] - 207s 74ms/step - loss: 0.8735 - acc: 0.6986 - val_loss: 0.9111 - val_acc: 0.7101\n",
      "Epoch 11/50\n",
      "2808/2808 [==============================] - 232s 82ms/step - loss: 0.8491 - acc: 0.7085 - val_loss: 0.5957 - val_acc: 0.8078\n",
      "Epoch 12/50\n",
      "2808/2808 [==============================] - 182s 65ms/step - loss: 0.8399 - acc: 0.7153 - val_loss: 0.6700 - val_acc: 0.7782\n",
      "Epoch 13/50\n",
      "2808/2808 [==============================] - 262s 93ms/step - loss: 0.8291 - acc: 0.7145 - val_loss: 0.7887 - val_acc: 0.7468\n",
      "Epoch 14/50\n",
      "2808/2808 [==============================] - 212s 75ms/step - loss: 0.8037 - acc: 0.7287 - val_loss: 0.7543 - val_acc: 0.7436\n",
      "Epoch 15/50\n",
      "2808/2808 [==============================] - 310s 110ms/step - loss: 0.7801 - acc: 0.7295 - val_loss: 0.9699 - val_acc: 0.7332\n",
      "Epoch 16/50\n",
      "2808/2808 [==============================] - 195s 70ms/step - loss: 0.7636 - acc: 0.7390 - val_loss: 0.5915 - val_acc: 0.8128\n",
      "Epoch 17/50\n",
      "2808/2808 [==============================] - 176s 63ms/step - loss: 0.7383 - acc: 0.7458 - val_loss: 2.2659 - val_acc: 0.5724\n",
      "Epoch 18/50\n",
      "2808/2808 [==============================] - 259s 92ms/step - loss: 0.7168 - acc: 0.7572 - val_loss: 1.1867 - val_acc: 0.6776\n",
      "Epoch 19/50\n",
      "2808/2808 [==============================] - 407s 145ms/step - loss: 0.7253 - acc: 0.7500 - val_loss: 0.5827 - val_acc: 0.8128\n",
      "Epoch 20/50\n",
      "2808/2808 [==============================] - 484s 173ms/step - loss: 0.6958 - acc: 0.7617 - val_loss: 0.5747 - val_acc: 0.8263\n",
      "Epoch 21/50\n",
      "2808/2808 [==============================] - 292s 104ms/step - loss: 0.7138 - acc: 0.7663 - val_loss: 0.6038 - val_acc: 0.7935\n",
      "Epoch 22/50\n",
      "2808/2808 [==============================] - 489s 174ms/step - loss: 0.6887 - acc: 0.7702 - val_loss: 0.5697 - val_acc: 0.8203\n",
      "Epoch 23/50\n",
      "2808/2808 [==============================] - 529s 188ms/step - loss: 0.6842 - acc: 0.7711 - val_loss: 0.5516 - val_acc: 0.8270\n",
      "Epoch 24/50\n",
      "2808/2808 [==============================] - 588s 209ms/step - loss: 0.6693 - acc: 0.7758 - val_loss: 0.5399 - val_acc: 0.8231\n",
      "Epoch 25/50\n",
      "2808/2808 [==============================] - 430s 153ms/step - loss: 0.6824 - acc: 0.7718 - val_loss: 0.7798 - val_acc: 0.7757\n",
      "Epoch 26/50\n",
      "2808/2808 [==============================] - 490s 175ms/step - loss: 0.6445 - acc: 0.7888 - val_loss: 0.7491 - val_acc: 0.7807\n",
      "Epoch 27/50\n",
      "2808/2808 [==============================] - 509s 181ms/step - loss: 0.6391 - acc: 0.7884 - val_loss: 1.7107 - val_acc: 0.6252\n",
      "Epoch 28/50\n",
      "2808/2808 [==============================] - 517s 184ms/step - loss: 0.6167 - acc: 0.7952 - val_loss: 0.5444 - val_acc: 0.8277\n",
      "Epoch 29/50\n",
      "2808/2808 [==============================] - 520s 185ms/step - loss: 0.6342 - acc: 0.7928 - val_loss: 0.6839 - val_acc: 0.7882\n",
      "Epoch 30/50\n",
      "2808/2808 [==============================] - 483s 172ms/step - loss: 0.6345 - acc: 0.7900 - val_loss: 0.5696 - val_acc: 0.8359\n",
      "Epoch 31/50\n",
      "2808/2808 [==============================] - 552s 197ms/step - loss: 0.6017 - acc: 0.8016 - val_loss: 0.6151 - val_acc: 0.8131\n",
      "Epoch 32/50\n",
      "2808/2808 [==============================] - 560s 200ms/step - loss: 0.6063 - acc: 0.8020 - val_loss: 0.5968 - val_acc: 0.8160\n",
      "Epoch 33/50\n",
      "2808/2808 [==============================] - 554s 197ms/step - loss: 0.5874 - acc: 0.8079 - val_loss: 0.5240 - val_acc: 0.8388\n",
      "Epoch 34/50\n",
      "2808/2808 [==============================] - 562s 200ms/step - loss: 0.5907 - acc: 0.8087 - val_loss: 0.7267 - val_acc: 0.8010\n",
      "Epoch 35/50\n",
      "2808/2808 [==============================] - 512s 182ms/step - loss: 0.5780 - acc: 0.8143 - val_loss: 0.5581 - val_acc: 0.8374\n",
      "Epoch 36/50\n",
      "2808/2808 [==============================] - 571s 203ms/step - loss: 0.5804 - acc: 0.8159 - val_loss: 0.5124 - val_acc: 0.8556\n",
      "Epoch 37/50\n",
      "2808/2808 [==============================] - 562s 200ms/step - loss: 0.5658 - acc: 0.8153 - val_loss: 0.5567 - val_acc: 0.8481\n",
      "Epoch 38/50\n",
      "2808/2808 [==============================] - 579s 206ms/step - loss: 0.5583 - acc: 0.8191 - val_loss: 0.5579 - val_acc: 0.8263\n",
      "Epoch 39/50\n",
      "2808/2808 [==============================] - 578s 206ms/step - loss: 0.5653 - acc: 0.8200 - val_loss: 0.5728 - val_acc: 0.8413\n",
      "Epoch 40/50\n",
      "2808/2808 [==============================] - 577s 205ms/step - loss: 0.5423 - acc: 0.8204 - val_loss: 0.4874 - val_acc: 0.8502\n",
      "Epoch 41/50\n",
      "2808/2808 [==============================] - 547s 195ms/step - loss: 0.5428 - acc: 0.8248 - val_loss: 0.5892 - val_acc: 0.8335\n",
      "Epoch 42/50\n",
      "2808/2808 [==============================] - 489s 174ms/step - loss: 0.5365 - acc: 0.8260 - val_loss: 0.6243 - val_acc: 0.8203\n",
      "Epoch 43/50\n",
      "2808/2808 [==============================] - 476s 169ms/step - loss: 0.5255 - acc: 0.8254 - val_loss: 0.5325 - val_acc: 0.8495\n",
      "Epoch 44/50\n",
      "2808/2808 [==============================] - 528s 188ms/step - loss: 0.5297 - acc: 0.8300 - val_loss: 0.4786 - val_acc: 0.8670\n",
      "Epoch 45/50\n",
      "2808/2808 [==============================] - 546s 195ms/step - loss: 0.5106 - acc: 0.8331 - val_loss: 0.5050 - val_acc: 0.8491\n",
      "Epoch 46/50\n",
      "2808/2808 [==============================] - 549s 195ms/step - loss: 0.5235 - acc: 0.8267 - val_loss: 0.4608 - val_acc: 0.8641\n",
      "Epoch 47/50\n",
      "2808/2808 [==============================] - 548s 195ms/step - loss: 0.5033 - acc: 0.8374 - val_loss: 0.4582 - val_acc: 0.8613\n",
      "Epoch 48/50\n",
      "2808/2808 [==============================] - 548s 195ms/step - loss: 0.5095 - acc: 0.8357 - val_loss: 0.4775 - val_acc: 0.8563\n",
      "Epoch 49/50\n",
      "2808/2808 [==============================] - 549s 196ms/step - loss: 0.5088 - acc: 0.8394 - val_loss: 0.4793 - val_acc: 0.8623\n",
      "Epoch 50/50\n",
      "2808/2808 [==============================] - 548s 195ms/step - loss: 0.5074 - acc: 0.8362 - val_loss: 0.5502 - val_acc: 0.8470\n"
     ]
    }
   ],
   "source": [
    "model12 = Model()\n",
    "model12.compile(optimizer=\"RMSProp\",loss=\"categorical_crossentropy\",metrics=[\"acc\"])\n",
    "history = model12.fit_generator(\n",
    "    train,\n",
    "    epochs=50,\n",
    "    validation_data=val\n",
    ")"
   ]
  },
  {
   "cell_type": "code",
   "execution_count": 4,
   "metadata": {},
   "outputs": [
    {
     "name": "stderr",
     "output_type": "stream",
     "text": [
      "C:\\Users\\MTG\\AppData\\Local\\Temp\\ipykernel_15520\\3413403080.py:3: UserWarning: `Model.predict_generator` is deprecated and will be removed in a future version. Please use `Model.predict`, which supports generators.\n",
      "  Y_pred = model12.predict_generator(test)\n"
     ]
    },
    {
     "data": {
      "text/plain": [
       "3000"
      ]
     },
     "execution_count": 4,
     "metadata": {},
     "output_type": "execute_result"
    }
   ],
   "source": [
    "import numpy as np\n",
    "from sklearn.metrics import confusion_matrix\n",
    "Y_pred = model12.predict_generator(test)\n",
    "y_pred = np.argmax(Y_pred,axis=1)\n",
    "len(y_pred) "
   ]
  },
  {
   "cell_type": "code",
   "execution_count": 5,
   "metadata": {},
   "outputs": [
    {
     "data": {
      "text/plain": [
       "array([[ 79,  73,  64,  88,  70,  63],\n",
       "       [ 64,  69,  86, 102,  75,  78],\n",
       "       [ 80,  90,  91, 115,  88,  89],\n",
       "       [ 81,  81,  96, 111,  72,  84],\n",
       "       [ 71,  74,  83, 119,  80,  83],\n",
       "       [ 50,  77, 105, 104,  79,  86]], dtype=int64)"
      ]
     },
     "execution_count": 5,
     "metadata": {},
     "output_type": "execute_result"
    }
   ],
   "source": [
    "ytrue=np.array(np.array(test.labels))\n",
    "ypred=np.array(y_pred)\n",
    "cm=confusion_matrix(ytrue,ypred)\n",
    "cm"
   ]
  },
  {
   "cell_type": "code",
   "execution_count": 6,
   "metadata": {},
   "outputs": [
    {
     "name": "stdout",
     "output_type": "stream",
     "text": [
      "Classification Report:\n",
      "----------------------\n",
      "               precision    recall  f1-score   support\n",
      "\n",
      "   buildings     0.1859    0.1808    0.1833       437\n",
      "      forest     0.1487    0.1456    0.1471       474\n",
      "     glacier     0.1733    0.1646    0.1688       553\n",
      "    mountain     0.1737    0.2114    0.1907       525\n",
      "         sea     0.1724    0.1569    0.1643       510\n",
      "      street     0.1781    0.1717    0.1748       501\n",
      "\n",
      "    accuracy                         0.1720      3000\n",
      "   macro avg     0.1720    0.1718    0.1715      3000\n",
      "weighted avg     0.1720    0.1720    0.1716      3000\n",
      "\n"
     ]
    }
   ],
   "source": [
    "from sklearn.metrics import classification_report\n",
    "clr = classification_report(ytrue, ypred, target_names=list(test.class_indices.keys()), digits= 4) # create classification report\n",
    "print(\"Classification Report:\\n----------------------\\n\", clr)"
   ]
  },
  {
   "cell_type": "code",
   "execution_count": 7,
   "metadata": {},
   "outputs": [
    {
     "data": {
      "image/png": "[encoded data removed]",
      "text/plain": [
       "<Figure size 1200x800 with 2 Axes>"
      ]
     },
     "metadata": {},
     "output_type": "display_data"
    }
   ],
   "source": [
    "import matplotlib.pyplot as plt\n",
    "import seaborn as sns\n",
    "plt.figure(figsize=(12,8))\n",
    "sns.heatmap(cm,cmap=\"Blues\", annot=True)\n",
    "plt.show()"
   ]
  },
  {
   "cell_type": "code",
   "execution_count": null,
   "metadata": {},
   "outputs": [],
   "source": []
  }
 ],
 "metadata": {
  "kernelspec": {
   "display_name": "Python 3",
   "language": "python",
   "name": "python3"
  },
  "language_info": {
   "codemirror_mode": {
    "name": "ipython",
    "version": 3
   },
   "file_extension": ".py",
   "mimetype": "text/x-python",
   "name": "python",
   "nbconvert_exporter": "python",
   "pygments_lexer": "ipython3",
   "version": "3.10.8 (tags/v3.10.8:aaaf517, Oct 11 2022, 16:50:30) [MSC v.1933 64 bit (AMD64)]"
  },
  "orig_nbformat": 4,
  "vscode": {
   "interpreter": {
    "hash": "cccf58110e78881b05b784bd7baf1ae6021f67a20806dca348d3f3ea30b3f81b"
   }
  }
 },
 "nbformat": 4,
 "nbformat_minor": 2
}
